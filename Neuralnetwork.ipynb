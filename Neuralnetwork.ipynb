{
 "cells": [
  {
   "cell_type": "markdown",
   "id": "b092fc34",
   "metadata": {},
   "source": [
    "Problem Statement\n"
   ]
  },
  {
   "cell_type": "markdown",
   "id": "41b006de",
   "metadata": {},
   "source": [
    "As part of Module 11, you are required to complete the project titled “Neural Network from Scratch”. This project is designed to test your understanding of fundamental neural network concepts by implementing a basic feedforward neural network using only NumPy, no external ML libraries like TensorFlow or PyTorch.\n",
    "You will work with synthetic image data representing the characters A, B, and C using binary pixel patterns. Each image is a 5×6 (30-pixel) grid encoded as a 1D array. Your goal is to classify the input image as A, B, or C using a two-layer neural network trained via backpropagation.\n"
   ]
  },
  {
   "cell_type": "code",
   "execution_count": 1,
   "id": "164a3aca",
   "metadata": {},
   "outputs": [],
   "source": [
    "import numpy as np\n",
    "import matplotlib.pyplot as plt"
   ]
  },
  {
   "cell_type": "code",
   "execution_count": 2,
   "id": "4f3dfb2e",
   "metadata": {},
   "outputs": [],
   "source": [
    "def generate_dataset():\n",
    "    A = np.array([\n",
    "        [0,1,1,1,0],\n",
    "        [1,0,0,0,1],\n",
    "        [1,1,1,1,1],\n",
    "        [1,0,0,0,1],\n",
    "        [1,0,0,0,1],\n",
    "        [1,0,0,0,1]\n",
    "    ])\n",
    "\n",
    "    B = np.array([\n",
    "        [1,1,1,1,0],\n",
    "        [1,0,0,0,1],\n",
    "        [1,1,1,1,0],\n",
    "        [1,0,0,0,1],\n",
    "        [1,0,0,0,1],\n",
    "        [1,1,1,1,0]\n",
    "    ])\n",
    "\n",
    "    C = np.array([\n",
    "        [0,1,1,1,1],\n",
    "        [1,0,0,0,0],\n",
    "        [1,0,0,0,0],\n",
    "        [1,0,0,0,0],\n",
    "        [1,0,0,0,0],\n",
    "        [0,1,1,1,1]\n",
    "    ])\n",
    "\n",
    "    letters = [A, B, C]\n",
    "    labels = [[1, 0, 0], [0, 1, 0], [0, 0, 1]]  # One-hot encoded labels\n",
    "    X = np.array([img.flatten() for img in letters])\n",
    "    Y = np.array(labels)\n",
    "    return X, Y, letters\n"
   ]
  },
  {
   "cell_type": "markdown",
   "id": "834fd6d6",
   "metadata": {},
   "source": [
    "2. Activation Functions"
   ]
  },
  {
   "cell_type": "code",
   "execution_count": 3,
   "id": "eeba074f",
   "metadata": {},
   "outputs": [],
   "source": [
    "def sigmoid(z):\n",
    "    return 1 / (1 + np.exp(-z))\n",
    "\n",
    "def sigmoid_derivative(a):\n",
    "    return a * (1 - a)\n",
    "\n",
    "def softmax(z):\n",
    "    e_z = np.exp(z - np.max(z, axis=0, keepdims=True))\n",
    "    return e_z / np.sum(e_z, axis=0, keepdims=True)\n"
   ]
  },
  {
   "cell_type": "markdown",
   "id": "2285f9af",
   "metadata": {},
   "source": [
    " 3. Loss Function "
   ]
  },
  {
   "cell_type": "code",
   "execution_count": 4,
   "id": "a13a7754",
   "metadata": {},
   "outputs": [],
   "source": [
    "def compute_loss(y_true, y_pred):\n",
    "    m = y_true.shape[0]\n",
    "    loss = -np.sum(y_true.T * np.log(y_pred + 1e-8)) / m\n",
    "    return loss\n",
    "\n",
    "def compute_accuracy(y_true, y_pred):\n",
    "    preds = np.argmax(y_pred, axis=0)\n",
    "    labels = np.argmax(y_true, axis=1)\n",
    "    return np.mean(preds == labels)"
   ]
  },
  {
   "cell_type": "markdown",
   "id": "c22d9be6",
   "metadata": {},
   "source": [
    "4. Initialize Parameters "
   ]
  },
  {
   "cell_type": "code",
   "execution_count": 5,
   "id": "7d42ced6",
   "metadata": {},
   "outputs": [],
   "source": [
    "def initialize_parameters(input_size, hidden_size, output_size):\n",
    "    W1 = np.random.randn(hidden_size, input_size) * 0.1\n",
    "    b1 = np.zeros((hidden_size, 1))\n",
    "    W2 = np.random.randn(output_size, hidden_size) * 0.1\n",
    "    b2 = np.zeros((output_size, 1))\n",
    "    return W1, b1, W2, b2"
   ]
  },
  {
   "cell_type": "markdown",
   "id": "63edf32c",
   "metadata": {},
   "source": [
    "5. Forward & Backward Pass"
   ]
  },
  {
   "cell_type": "code",
   "execution_count": 6,
   "id": "dedb296c",
   "metadata": {},
   "outputs": [],
   "source": [
    "def forward(X, W1, b1, W2, b2):\n",
    "    Z1 = np.dot(W1, X.T) + b1\n",
    "    A1 = sigmoid(Z1)\n",
    "    Z2 = np.dot(W2, A1) + b2\n",
    "    A2 = softmax(Z2)\n",
    "    return Z1, A1, Z2, A2\n",
    "\n",
    "def backward(X, Y, Z1, A1, A2, W2):\n",
    "    m = X.shape[0]\n",
    "    dZ2 = A2 - Y.T\n",
    "    dW2 = (1/m) * np.dot(dZ2, A1.T)\n",
    "    db2 = (1/m) * np.sum(dZ2, axis=1, keepdims=True)\n",
    "    \n",
    "    dA1 = np.dot(W2.T, dZ2)\n",
    "    dZ1 = dA1 * sigmoid_derivative(A1)\n",
    "    dW1 = (1/m) * np.dot(dZ1, X)\n",
    "    db1 = (1/m) * np.sum(dZ1, axis=1, keepdims=True)\n",
    "    \n",
    "    return dW1, db1, dW2, db2\n"
   ]
  },
  {
   "cell_type": "markdown",
   "id": "e02382d7",
   "metadata": {},
   "source": [
    "6. Training "
   ]
  },
  {
   "cell_type": "code",
   "execution_count": 7,
   "id": "1fde7647",
   "metadata": {},
   "outputs": [],
   "source": [
    "def train(X, Y, hidden_size=16, epochs=1000, lr=0.5):\n",
    "    input_size = X.shape[1]\n",
    "    output_size = Y.shape[1]\n",
    "    W1, b1, W2, b2 = initialize_parameters(input_size, hidden_size, output_size)\n",
    "    \n",
    "    losses = []\n",
    "    accuracies = []\n",
    "\n",
    "    for epoch in range(epochs):\n",
    "        Z1, A1, Z2, A2 = forward(X, W1, b1, W2, b2)\n",
    "        loss = compute_loss(Y, A2)\n",
    "        acc = compute_accuracy(Y, A2)\n",
    "\n",
    "        dW1, db1, dW2, db2 = backward(X, Y, Z1, A1, A2, W2)\n",
    "\n",
    "        # Update weights\n",
    "        W1 -= lr * dW1\n",
    "        b1 -= lr * db1\n",
    "        W2 -= lr * dW2\n",
    "        b2 -= lr * db2\n",
    "\n",
    "        losses.append(loss)\n",
    "        accuracies.append(acc)\n",
    "\n",
    "        if epoch % 100 == 0 or epoch == epochs - 1:\n",
    "            print(f\"Epoch {epoch}: Loss = {loss:.4f}, Accuracy = {acc:.4f}\")\n",
    "    \n",
    "    return W1, b1, W2, b2, losses, accuracies\n"
   ]
  },
  {
   "cell_type": "markdown",
   "id": "5bd19a88",
   "metadata": {},
   "source": [
    "7. Prediction & Visualization"
   ]
  },
  {
   "cell_type": "code",
   "execution_count": 8,
   "id": "2472bcae",
   "metadata": {},
   "outputs": [],
   "source": [
    "def predict(X, W1, b1, W2, b2):\n",
    "    _, _, _, A2 = forward(X, W1, b1, W2, b2)\n",
    "    return np.argmax(A2, axis=0)\n",
    "\n",
    "def show_letter(letter_matrix, title=\"Input Image\"):\n",
    "    plt.imshow(letter_matrix, cmap=\"gray\")\n",
    "    plt.title(title)\n",
    "    plt.axis('off')\n",
    "    plt.show()\n",
    "\n",
    "def plot_training(losses, accuracies):\n",
    "    plt.figure(figsize=(10, 4))\n",
    "    plt.subplot(1, 2, 1)\n",
    "    plt.plot(losses)\n",
    "    plt.title(\"Loss over Epochs\")\n",
    "    plt.xlabel(\"Epoch\")\n",
    "    plt.ylabel(\"Loss\")\n",
    "\n",
    "    plt.subplot(1, 2, 2)\n",
    "    plt.plot(accuracies)\n",
    "    plt.title(\"Accuracy over Epochs\")\n",
    "    plt.xlabel(\"Epoch\")\n",
    "    plt.ylabel(\"Accuracy\")\n",
    "\n",
    "    plt.tight_layout()\n",
    "    plt.show()"
   ]
  },
  {
   "cell_type": "markdown",
   "id": "2a3e3605",
   "metadata": {},
   "source": [
    "8. Main"
   ]
  },
  {
   "cell_type": "code",
   "execution_count": 9,
   "id": "aafda480",
   "metadata": {},
   "outputs": [
    {
     "name": "stdout",
     "output_type": "stream",
     "text": [
      "Epoch 0: Loss = 1.1016, Accuracy = 0.3333\n",
      "Epoch 100: Loss = 0.0400, Accuracy = 1.0000\n",
      "Epoch 200: Loss = 0.0135, Accuracy = 1.0000\n",
      "Epoch 300: Loss = 0.0078, Accuracy = 1.0000\n",
      "Epoch 400: Loss = 0.0054, Accuracy = 1.0000\n",
      "Epoch 500: Loss = 0.0041, Accuracy = 1.0000\n",
      "Epoch 600: Loss = 0.0033, Accuracy = 1.0000\n",
      "Epoch 700: Loss = 0.0028, Accuracy = 1.0000\n",
      "Epoch 800: Loss = 0.0024, Accuracy = 1.0000\n",
      "Epoch 900: Loss = 0.0021, Accuracy = 1.0000\n",
      "Epoch 999: Loss = 0.0018, Accuracy = 1.0000\n",
      "\n",
      "Predictions:\n"
     ]
    },
    {
     "data": {
      "image/png": "[encoded data removed]",
      "text/plain": [
       "<Figure size 640x480 with 1 Axes>"
      ]
     },
     "metadata": {},
     "output_type": "display_data"
    },
    {
     "data": {
      "image/png": "[encoded data removed]",
      "text/plain": [
       "<Figure size 640x480 with 1 Axes>"
      ]
     },
     "metadata": {},
     "output_type": "display_data"
    },
    {
     "data": {
      "image/png": "[encoded data removed]",
      "text/plain": [
       "<Figure size 640x480 with 1 Axes>"
      ]
     },
     "metadata": {},
     "output_type": "display_data"
    },
    {
     "data": {
      "image/png": "[encoded data removed]",
      "text/plain": [
       "<Figure size 1000x400 with 2 Axes>"
      ]
     },
     "metadata": {},
     "output_type": "display_data"
    }
   ],
   "source": [
    "if __name__ == \"__main__\":\n",
    "    X, Y, letters = generate_dataset()\n",
    "    W1, b1, W2, b2, losses, accuracies = train(X, Y, hidden_size=10, epochs=1000, lr=0.5)\n",
    "    preds = predict(X, W1, b1, W2, b2)\n",
    "\n",
    "    class_names = [\"A\", \"B\", \"C\"]\n",
    "    print(\"\\nPredictions:\")\n",
    "    for i, p in enumerate(preds):\n",
    "        show_letter(letters[i], f\"Predicted: {class_names[p]}\")\n",
    "\n",
    "    plot_training(losses, accuracies)\n"
   ]
  },
  {
   "cell_type": "code",
   "execution_count": null,
   "id": "7ddcc937",
   "metadata": {},
   "outputs": [],
   "source": []
  }
 ],
 "metadata": {
  "kernelspec": {
   "display_name": "base",
   "language": "python",
   "name": "python3"
  },
  "language_info": {
   "codemirror_mode": {
    "name": "ipython",
    "version": 3
   },
   "file_extension": ".py",
   "mimetype": "text/x-python",
   "name": "python",
   "nbconvert_exporter": "python",
   "pygments_lexer": "ipython3",
   "version": "3.12.4"
  }
 },
 "nbformat": 4,
 "nbformat_minor": 5
}
